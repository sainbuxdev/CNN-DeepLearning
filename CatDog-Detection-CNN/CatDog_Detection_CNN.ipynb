{
  "nbformat": 4,
  "nbformat_minor": 0,
  "metadata": {
    "colab": {
      "provenance": []
    },
    "kernelspec": {
      "name": "python3",
      "display_name": "Python 3"
    },
    "language_info": {
      "name": "python"
    }
  },
  "cells": [
    {
      "cell_type": "code",
      "execution_count": 6,
      "metadata": {
        "id": "RKFRq9U1oPcs",
        "colab": {
          "base_uri": "https://localhost:8080/"
        },
        "outputId": "6e3ddb25-9e23-45e7-af22-b7e4db78c5b9"
      },
      "outputs": [
        {
          "output_type": "stream",
          "name": "stdout",
          "text": [
            "Mounted at /content/drive\n"
          ]
        }
      ],
      "source": [
        "from google.colab import drive\n",
        "drive.mount('/content/drive')"
      ]
    },
    {
      "cell_type": "code",
      "source": [
        "from zipfile import ZipFile\n",
        "file_name = '/content/drive/MyDrive/Cat-Dog-dataset.zip'\n",
        "with ZipFile(file_name,'r') as zip:\n",
        "     zip.extractall()\n",
        "     print('finish')"
      ],
      "metadata": {
        "colab": {
          "base_uri": "https://localhost:8080/"
        },
        "id": "3AM4zPypzafA",
        "outputId": "72ada750-5636-4f62-ef3e-fa9dec5c2011"
      },
      "execution_count": 7,
      "outputs": [
        {
          "output_type": "stream",
          "name": "stdout",
          "text": [
            "finish\n"
          ]
        }
      ]
    },
    {
      "cell_type": "code",
      "source": [
        "!pip install -q keras"
      ],
      "metadata": {
        "id": "7wNTYu5X1z0I"
      },
      "execution_count": 8,
      "outputs": []
    },
    {
      "cell_type": "code",
      "source": [
        "import keras\n",
        "from keras.models import Sequential\n",
        "from keras.layers import Conv2D\n",
        "from keras.layers import Dense\n",
        "from keras.layers import Flatten\n",
        "from keras.layers import MaxPooling2D"
      ],
      "metadata": {
        "id": "C15dOpKH18Ht"
      },
      "execution_count": 21,
      "outputs": []
    },
    {
      "cell_type": "code",
      "source": [
        "CNN_model = Sequential()\n",
        "\n",
        "CNN_model.add(Conv2D(32, kernel_size=(3, 3), input_shape=(64, 64, 3), activation='relu'))\n",
        "CNN_model.add(MaxPooling2D(pool_size=(2,2)))\n",
        "\n",
        "CNN_model.add(Conv2D(16,3,3,activation='relu'))\n",
        "CNN_model.add(MaxPooling2D(pool_size=(2,2)))\n",
        "\n",
        "CNN_model.add(Flatten())\n",
        "\n",
        "CNN_model.add(Dense(units=128, activation='relu'))\n",
        "CNN_model.add(Dense(units=1, activation='sigmoid'))\n",
        "\n",
        "CNN_model.compile(optimizer='adam',loss='binary_crossentropy', metrics = ['accuracy'])\n",
        "\n"
      ],
      "metadata": {
        "id": "FOXExu0t2K5d"
      },
      "execution_count": 23,
      "outputs": []
    },
    {
      "cell_type": "code",
      "source": [
        "from keras.preprocessing.image import ImageDataGenerator\n",
        "\n",
        "train_datagen = ImageDataGenerator(\n",
        "        rescale=1./255,\n",
        "        shear_range=0.2,\n",
        "        zoom_range=0.2,\n",
        "        horizontal_flip=True)\n",
        "test_datagen = ImageDataGenerator(rescale=1./255)\n",
        "train_set = train_datagen.flow_from_directory(\n",
        "        '/content/Cat-Dog-dataset/training_set',\n",
        "        target_size=(64, 64),\n",
        "        batch_size=16,\n",
        "        class_mode='binary')\n",
        "test_set= test_datagen.flow_from_directory(\n",
        "        '/content/Cat-Dog-dataset/test_set',\n",
        "        target_size=(64, 64),\n",
        "        batch_size=16,\n",
        "        class_mode='binary')\n",
        "CNN_model.fit(\n",
        "        train_set,\n",
        "        steps_per_epoch=500,\n",
        "        epochs=20,\n",
        "        validation_data=test_set,\n",
        "        validation_steps=125)"
      ],
      "metadata": {
        "colab": {
          "base_uri": "https://localhost:8080/"
        },
        "id": "Qw33o6TN34Bk",
        "outputId": "1507595f-8793-49d7-e90e-2903a4efc361"
      },
      "execution_count": 45,
      "outputs": [
        {
          "output_type": "stream",
          "name": "stdout",
          "text": [
            "Found 8005 images belonging to 2 classes.\n",
            "Found 2023 images belonging to 2 classes.\n",
            "Epoch 1/20\n",
            "500/500 [==============================] - 54s 107ms/step - loss: 0.4804 - accuracy: 0.7677 - val_loss: 0.4887 - val_accuracy: 0.7620\n",
            "Epoch 2/20\n",
            "500/500 [==============================] - 53s 105ms/step - loss: 0.4786 - accuracy: 0.7683 - val_loss: 0.5394 - val_accuracy: 0.7305\n",
            "Epoch 3/20\n",
            "500/500 [==============================] - 54s 109ms/step - loss: 0.4672 - accuracy: 0.7718 - val_loss: 0.5507 - val_accuracy: 0.7250\n",
            "Epoch 4/20\n",
            "500/500 [==============================] - 53s 107ms/step - loss: 0.4679 - accuracy: 0.7812 - val_loss: 0.5424 - val_accuracy: 0.7285\n",
            "Epoch 5/20\n",
            "500/500 [==============================] - 53s 106ms/step - loss: 0.4530 - accuracy: 0.7853 - val_loss: 0.4908 - val_accuracy: 0.7700\n",
            "Epoch 6/20\n",
            "500/500 [==============================] - 53s 106ms/step - loss: 0.4487 - accuracy: 0.7867 - val_loss: 0.4658 - val_accuracy: 0.7805\n",
            "Epoch 7/20\n",
            "500/500 [==============================] - 53s 107ms/step - loss: 0.4467 - accuracy: 0.7885 - val_loss: 0.4678 - val_accuracy: 0.7795\n",
            "Epoch 8/20\n",
            "500/500 [==============================] - 54s 109ms/step - loss: 0.4344 - accuracy: 0.7945 - val_loss: 0.4753 - val_accuracy: 0.7825\n",
            "Epoch 9/20\n",
            "500/500 [==============================] - 53s 107ms/step - loss: 0.4250 - accuracy: 0.8022 - val_loss: 0.4764 - val_accuracy: 0.7770\n",
            "Epoch 10/20\n",
            "500/500 [==============================] - 53s 106ms/step - loss: 0.4277 - accuracy: 0.7968 - val_loss: 0.4630 - val_accuracy: 0.7795\n",
            "Epoch 11/20\n",
            "500/500 [==============================] - 55s 109ms/step - loss: 0.4258 - accuracy: 0.8027 - val_loss: 0.4478 - val_accuracy: 0.7935\n",
            "Epoch 12/20\n",
            "500/500 [==============================] - 58s 116ms/step - loss: 0.4138 - accuracy: 0.8101 - val_loss: 0.4704 - val_accuracy: 0.7865\n",
            "Epoch 13/20\n",
            "500/500 [==============================] - 52s 105ms/step - loss: 0.4100 - accuracy: 0.8084 - val_loss: 0.5835 - val_accuracy: 0.7370\n",
            "Epoch 14/20\n",
            "500/500 [==============================] - 54s 108ms/step - loss: 0.4012 - accuracy: 0.8151 - val_loss: 0.4893 - val_accuracy: 0.7750\n",
            "Epoch 15/20\n",
            "500/500 [==============================] - 58s 116ms/step - loss: 0.4055 - accuracy: 0.8095 - val_loss: 0.4666 - val_accuracy: 0.7740\n",
            "Epoch 16/20\n",
            "500/500 [==============================] - 53s 105ms/step - loss: 0.4014 - accuracy: 0.8100 - val_loss: 0.5172 - val_accuracy: 0.7585\n",
            "Epoch 17/20\n",
            "500/500 [==============================] - 54s 109ms/step - loss: 0.3910 - accuracy: 0.8226 - val_loss: 0.4670 - val_accuracy: 0.7860\n",
            "Epoch 18/20\n",
            "500/500 [==============================] - 54s 107ms/step - loss: 0.3886 - accuracy: 0.8205 - val_loss: 0.4623 - val_accuracy: 0.7935\n",
            "Epoch 19/20\n",
            "500/500 [==============================] - 53s 106ms/step - loss: 0.3833 - accuracy: 0.8229 - val_loss: 0.5223 - val_accuracy: 0.7620\n",
            "Epoch 20/20\n",
            "500/500 [==============================] - 53s 105ms/step - loss: 0.3833 - accuracy: 0.8258 - val_loss: 0.5001 - val_accuracy: 0.7610\n"
          ]
        },
        {
          "output_type": "execute_result",
          "data": {
            "text/plain": [
              "<keras.callbacks.History at 0x7cf60f0a4040>"
            ]
          },
          "metadata": {},
          "execution_count": 45
        }
      ]
    },
    {
      "cell_type": "code",
      "source": [
        "import numpy as np\n",
        "from tensorflow.keras.preprocessing import image\n",
        "from keras.applications.vgg16 import preprocess_input\n",
        "\n",
        "test_img = image.load_img('/content/test-dog.jpg', target_size=(64,64))\n",
        "test_img = image.img_to_array(test_img)\n",
        "test_img = np.expand_dims(test_img, axis = 0)\n",
        "\n",
        "image_array = preprocess_input(test_img[np.newaxis, ...])\n",
        "\n",
        "result = CNN_model.predict(test_img)\n",
        "\n",
        "if result[0] > 0.5:\n",
        "    print(\"Prediction: Dog\")\n",
        "else:\n",
        "    print(\"Prediction: Cat\")\n"
      ],
      "metadata": {
        "colab": {
          "base_uri": "https://localhost:8080/"
        },
        "id": "uqNh_pMW8MqJ",
        "outputId": "05ad1ad7-5b69-4f37-eb10-b351135cff46"
      },
      "execution_count": 49,
      "outputs": [
        {
          "output_type": "stream",
          "name": "stdout",
          "text": [
            "1/1 [==============================] - 0s 25ms/step\n",
            "Prediction: Dog\n"
          ]
        }
      ]
    },
    {
      "cell_type": "code",
      "source": [],
      "metadata": {
        "id": "oWs0OBJ5Ccwk"
      },
      "execution_count": null,
      "outputs": []
    }
  ]
}